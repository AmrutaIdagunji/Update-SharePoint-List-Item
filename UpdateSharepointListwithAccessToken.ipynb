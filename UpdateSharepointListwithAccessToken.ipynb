{
 "cells": [
  {
   "cell_type": "markdown",
   "metadata": {},
   "source": [
    "# Importing Libraries"
   ]
  },
  {
   "cell_type": "code",
   "execution_count": 46,
   "metadata": {
    "scrolled": true
   },
   "outputs": [],
   "source": [
    "# Import libraries\n",
    "import json\n",
    "import requests"
   ]
  },
  {
   "cell_type": "markdown",
   "metadata": {},
   "source": [
    "# Define Client ID / Client Secret / tenant ID and Authentication URL"
   ]
  },
  {
   "cell_type": "code",
   "execution_count": 33,
   "metadata": {
    "scrolled": true
   },
   "outputs": [],
   "source": [
    "# Client ID and Client Secret\n",
    "\n",
    "clientId =\"<clientId>\"\n",
    "clientSecret = \"<clientSecret>\"\n",
    "tenantId = \"<tenantId>\"\n",
    "\n",
    "# OAuth URL\n",
    "authenticationURL = \"https://accounts.accesscontrol.windows.net/\" + tenantId + \"/tokens/OAuth/2\""
   ]
  },
  {
   "cell_type": "markdown",
   "metadata": {},
   "source": [
    "# Get Access Tokens"
   ]
  },
  {
   "cell_type": "code",
   "execution_count": 34,
   "metadata": {
    "scrolled": true
   },
   "outputs": [],
   "source": [
    "# Define the body for access token in the form of url encoded data\n",
    "form = \"&grant_type=client_credentials&resource=00000003-0000-0ff1-ce00-000000000000/<siteDomain>@\" + tenantId + \"&client_id=\" + clientId + \"@\" + tenantId + \"&client_secret=\" + clientSecret\n",
    "\n",
    "# encoding the following in the URL - grant_type, resource, client ID (<clientID>@<tenantID>) and client secret\n",
    "\n",
    "\"\"\"\n",
    "Resource is of the format: 'resource/siteDomain@tenantID'\n",
    "1. Resource - constant value : 00000003-0000-0ff1-ce00-000000000000\n",
    "2. siteDomain: your sharepoint domain url\n",
    "3. tenantID is defined in the previous cell\n",
    "\"\"\""
   ]
  },
  {
   "cell_type": "code",
   "execution_count": 37,
   "metadata": {
    "scrolled": true
   },
   "outputs": [],
   "source": [
    "# Define headers and call the api using post method\n",
    "headers =  {\"Content-Type\":\"application/x-www-form-urlencoded\", \"Accept\" : \"*/*\"}\n",
    "response = requests.post(authenticationURL, json=form, headers = headers)"
   ]
  },
  {
   "cell_type": "code",
   "execution_count": 39,
   "metadata": {
    "scrolled": true
   },
   "outputs": [
    {
     "name": "stdout",
     "output_type": "stream",
     "text": [
      "200\n"
     ]
    }
   ],
   "source": [
    "print(response.status_code)"
   ]
  },
  {
   "cell_type": "code",
   "execution_count": 41,
   "metadata": {
    "scrolled": true
   },
   "outputs": [
    {
     "name": "stdout",
     "output_type": "stream",
     "text": [
      "True\n"
     ]
    }
   ],
   "source": [
    "print(response.ok)"
   ]
  },
  {
   "cell_type": "code",
   "execution_count": null,
   "metadata": {
    "scrolled": true
   },
   "outputs": [],
   "source": [
    "print(response.json()) # API response is shown below"
   ]
  },
  {
   "cell_type": "code",
   "execution_count": null,
   "metadata": {
    "scrolled": true
   },
   "outputs": [],
   "source": [
    "print(response.content)"
   ]
  },
  {
   "cell_type": "code",
   "execution_count": 44,
   "metadata": {
    "scrolled": true
   },
   "outputs": [],
   "source": [
    "# store the access token in a variable\n",
    "jData = response.json()\n",
    "\n",
    "access_token = jData['access_token'] "
   ]
  },
  {
   "cell_type": "markdown",
   "metadata": {},
   "source": [
    "# Get access to Sharepoint using the access token and update the cell"
   ]
  },
  {
   "cell_type": "code",
   "execution_count": 45,
   "metadata": {
    "scrolled": true
   },
   "outputs": [],
   "source": [
    "# SharePoint Site URL\n",
    "sharepointListURL = \"https://<sharepointSiteDomain>/sites/<siteName>/_api/web/Lists/getbytitle('<listName>')/Items(<row number that should be updated>)\""
   ]
  },
  {
   "cell_type": "code",
   "execution_count": 47,
   "metadata": {
    "scrolled": true
   },
   "outputs": [],
   "source": [
    "# define whats to be written back to sharepoint item\n",
    "body = '{\"<column_name>\":\"<new value>\",\"__metadata\": { \"type\": \"SP.Data.<list_name>ListItem\"}}'"
   ]
  },
  {
   "cell_type": "code",
   "execution_count": 49,
   "metadata": {
    "scrolled": true
   },
   "outputs": [
    {
     "name": "stdout",
     "output_type": "stream",
     "text": [
      "<Response [204]>\n"
     ]
    }
   ],
   "source": [
    "# define the headers -  Following are the mandatory fields:Content type, Accept, X-HTTP-Method, If-Match and Authorization\n",
    "headers =  {\"Content-Type\":\"application/json;odata=verbose\", \"Accept\" : \"application/json;odata=verbose\", \"X-HTTP-Method\":\"MERGE\", \"If-Match\":\"*\",\"Authorization\":\"Bearer \" + access_token}\n",
    "\n",
    "# call the api using POST methos\n",
    "response = requests.post(sharepointListURL, data = body, headers = headers)\n",
    "\n",
    "# this api doesnt return any response\n",
    "print(response)"
   ]
  },
  {
   "cell_type": "markdown",
   "metadata": {},
   "source": [
    "## END"
   ]
  }
 ],
 "metadata": {
  "kernelspec": {
   "display_name": "Python 3",
   "language": "python",
   "name": "python3"
  },
  "language_info": {
   "codemirror_mode": {
    "name": "ipython",
    "version": 3
   },
   "file_extension": ".py",
   "mimetype": "text/x-python",
   "name": "python",
   "nbconvert_exporter": "python",
   "pygments_lexer": "ipython3",
   "version": "3.7.3"
  }
 },
 "nbformat": 4,
 "nbformat_minor": 2
}
